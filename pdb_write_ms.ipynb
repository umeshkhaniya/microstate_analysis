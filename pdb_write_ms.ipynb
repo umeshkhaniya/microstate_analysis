{
 "cells": [
  {
   "cell_type": "code",
   "execution_count": 1,
   "metadata": {},
   "outputs": [],
   "source": [
    "import pandas as pd\n",
    "import matplotlib.pyplot as plt\n",
    "import seaborn as sns\n",
    "import numpy as np"
   ]
  },
  {
   "cell_type": "code",
   "execution_count": 2,
   "metadata": {},
   "outputs": [],
   "source": [
    "import ms_analysis as msa\n",
    "mc = msa.MSout(\"../ms_out/pH5eH0ms.txt\")"
   ]
  },
  {
   "cell_type": "code",
   "execution_count": 3,
   "metadata": {},
   "outputs": [],
   "source": [
    "ms_orig_lst = [[ms.E, ms.count, ms.state] for  ms in list((mc.microstates.values()))]\n",
    "ms_orig_lst = sorted(ms_orig_lst, key = lambda x:x[0])"
   ]
  },
  {
   "cell_type": "code",
   "execution_count": 4,
   "metadata": {},
   "outputs": [],
   "source": [
    "# This will convert the charge microstate id to charge id.\n",
    "id_vs_charge = {}\n",
    "for conf in msa.conformers:\n",
    "    id_vs_charge[conf.iconf] = conf.crg\n",
    "\n",
    "def convert_ms_crg(l, d):\n",
    "    crg_lst =[[y[0], y[1], [convert_ms_crg(x, d) if isinstance(x, list) else d.get(x, x) for x in y[2]]] for y in l]\n",
    "    return crg_lst\n",
    "\n",
    "crg_orig_lst = convert_ms_crg(ms_orig_lst, id_vs_charge )\n"
   ]
  },
  {
   "cell_type": "code",
   "execution_count": 5,
   "metadata": {},
   "outputs": [
    {
     "name": "stdout",
     "output_type": "stream",
     "text": [
      "16.0\n"
     ]
    },
    {
     "data": {
      "text/html": [
       "<div>\n",
       "<style scoped>\n",
       "    .dataframe tbody tr th:only-of-type {\n",
       "        vertical-align: middle;\n",
       "    }\n",
       "\n",
       "    .dataframe tbody tr th {\n",
       "        vertical-align: top;\n",
       "    }\n",
       "\n",
       "    .dataframe thead th {\n",
       "        text-align: right;\n",
       "    }\n",
       "</style>\n",
       "<table border=\"1\" class=\"dataframe\">\n",
       "  <thead>\n",
       "    <tr style=\"text-align: right;\">\n",
       "      <th></th>\n",
       "      <th>Residue</th>\n",
       "      <th>crg</th>\n",
       "    </tr>\n",
       "  </thead>\n",
       "  <tbody>\n",
       "    <tr>\n",
       "      <th>0</th>\n",
       "      <td>ARGA0005_</td>\n",
       "      <td>1.0</td>\n",
       "    </tr>\n",
       "    <tr>\n",
       "      <th>1</th>\n",
       "      <td>LYSA0013_</td>\n",
       "      <td>1.0</td>\n",
       "    </tr>\n",
       "    <tr>\n",
       "      <th>2</th>\n",
       "      <td>ARGA0014_</td>\n",
       "      <td>1.0</td>\n",
       "    </tr>\n",
       "    <tr>\n",
       "      <th>3</th>\n",
       "      <td>ARGA0021_</td>\n",
       "      <td>1.0</td>\n",
       "    </tr>\n",
       "    <tr>\n",
       "      <th>4</th>\n",
       "      <td>TYRA0023_</td>\n",
       "      <td>0.0</td>\n",
       "    </tr>\n",
       "  </tbody>\n",
       "</table>\n",
       "</div>"
      ],
      "text/plain": [
       "     Residue  crg\n",
       "0  ARGA0005_  1.0\n",
       "1  LYSA0013_  1.0\n",
       "2  ARGA0014_  1.0\n",
       "3  ARGA0021_  1.0\n",
       "4  TYRA0023_  0.0"
      ]
     },
     "execution_count": 5,
     "metadata": {},
     "output_type": "execute_result"
    }
   ],
   "source": [
    "# this is to write the fixed charge state\n",
    "fixed_res_crg_dict = {}\n",
    "# list of titrable residues and your interest\n",
    "titra_res = [\"ASP\", \"GLU\", \"ARG\", \"HIS\", \"LYS\", \"CYS\", \"TYR\", \"NTR\", \"CTR\"]\n",
    "\n",
    "for conf in msa.conformers:\n",
    "    if conf.iconf in mc.fixed_iconfs and  conf.resid[:3] in titra_res:\n",
    "        try: \n",
    "            if conf.resid not in fixed_res_crg_dict:\n",
    "                fixed_res_crg_dict [conf.resid] = conf.crg\n",
    "        except:\n",
    "            print(\"Fixed residues are duplicating\")\n",
    "\n",
    "\n",
    "fixed_residues_crg = pd.DataFrame(fixed_res_crg_dict.items(), columns=['Residue', 'crg'])\n",
    "\n",
    "print(sum(fixed_res_crg_dict.values()))\n",
    "\n",
    "fixed_residues_crg.head() "
   ]
  },
  {
   "cell_type": "code",
   "execution_count": 6,
   "metadata": {},
   "outputs": [],
   "source": []
  },
  {
   "cell_type": "code",
   "execution_count": 17,
   "metadata": {},
   "outputs": [],
   "source": [
    "# This will  write out the pdb file  from conformer ms state. \n",
    "# input will take the list of ms in the form of ms_orig_lst i.e. third memeber is the list of ms.\n",
    "\n",
    "import os\n",
    "import shutil\n",
    "def write_ms2_pdb(ms_list, ms_start =0, skip_step_ms = 0, output_folder = 'ms_pdb'):\n",
    "    \n",
    "    if os.path.exists(output_folder):\n",
    "        shutil.rmtree(output_folder)\n",
    "    os.makedirs(output_folder)\n",
    "    \n",
    "    # this is to read the ms list file\n",
    "    for x in range(ms_start, len(ms_list), skip_step_ms+1):\n",
    "        all_conf_list = []\n",
    "        for conf in msa.conformers:\n",
    "            if conf.iconf in ms_list[x][2] or conf.iconf in mc.fixed_iconfs:\n",
    "        #print(conf.confid)\n",
    "                all_conf_list.append(conf.confid)\n",
    "        #print(all_conf_list)\n",
    "        # read the step2_file\n",
    "        pdb = open(\"../step2_out.pdb\").readlines()\n",
    "        file_name = f\"{output_folder}/ms_pdb_{x}.pdb\"\n",
    "        with open(file_name, 'w') as output_pdb:\n",
    "            for line in pdb:\n",
    "                if len(line) <82: continue\n",
    "                if line[26] == ' ': iCode = '_'\n",
    "                else: iCode = line[26]\n",
    "                confID = line[17:20]+line[80:82]+line[21:26]+iCode+line[27:30]\n",
    "\n",
    "                if confID in all_conf_list or confID[3:5] == 'BK':\n",
    "                        output_pdb.write(line)\n",
    "\n",
    "    print(f\"Skiping {skip_step_ms} microstate\")\n",
    "    return   "
   ]
  },
  {
   "cell_type": "code",
   "execution_count": 9,
   "metadata": {},
   "outputs": [
    {
     "name": "stdout",
     "output_type": "stream",
     "text": [
      "9\n"
     ]
    }
   ],
   "source": [
    "# writing out pdb using lowest, average and highest ms energy\n",
    "# from the origin list. Select the  two lowest energy conformer ms, two highest energy conformer ms state and  \n",
    "# and 5 random  around average energy state ms state(+/- 0.0001) .\n",
    "#pdb_crg_orig_lst = crg_orig_lst.copy()\n",
    "import random\n",
    "random.seed(100)\n",
    "ms_orig_lst_copy = ms_orig_lst.copy()\n",
    "pdb_low_high_conf_ms = [ms_orig_lst_copy[0], ms_orig_lst_copy[1], ms_orig_lst_copy[-2], ms_orig_lst_copy[-1]]\n",
    "pdb_av_conf_ms_random = random.sample([[x[0], x[1], x[2]] for x in ms_orig_lst_copy \\\n",
    "                                      if x[0] >= (mc.average_E  - 0.0001) and  x[0] <= (mc.average_E  + 0.0001)], 5)\n",
    "\n",
    "pdb_low_high_av_conf_ms = pdb_low_high_conf_ms + pdb_av_conf_ms_random\n",
    "#print(pdb_low_high_av_conf_ms)\n",
    "print(len(pdb_low_high_av_conf_ms))"
   ]
  },
  {
   "cell_type": "code",
   "execution_count": 18,
   "metadata": {},
   "outputs": [
    {
     "name": "stdout",
     "output_type": "stream",
     "text": [
      "Skiping 0 microstate\n"
     ]
    }
   ],
   "source": [
    "# write out the pdb in the folder low_high_avg_pdb\n",
    "write_ms2_pdb(pdb_low_high_av_conf_ms, ms_start =0, skip_step_ms = 0, output_folder = \"low_high_avg_pdb\")\n"
   ]
  },
  {
   "cell_type": "code",
   "execution_count": 8,
   "metadata": {},
   "outputs": [],
   "source": [
    "# writing the ms pdb file based on count and unique ms state. so\n",
    "# This will find the unique charge of all charge microstate. Three unique charge state with highest count will select for MD.\n",
    "# This will add to the dictionary value and make a list of enthalpy with maximum and minimum value\n",
    "# begin_energy = crg_list_ms[0][0], end_energy = crg_list_ms[-1][0]\n",
    "def find_unique_crg_ms(crg_list_ms, begin_energy = mc.lowest_E, end_energy = mc.highest_E):\n",
    "    crg_list_ms = [[x[0], x[1], x[2]] for x in crg_list_ms if x[0] >= begin_energy and x[0] <= end_energy]\n",
    "    # this is for unique charge ms. Each key is the charge ms and values are list of count and maximum and minimum\n",
    "    # energy\n",
    "    which_position_in_ms_state = []\n",
    "    crg_all_count = {}\n",
    "    for x, array in enumerate(crg_list_ms):\n",
    "        if tuple(array[2]) not in crg_all_count.keys():\n",
    "            crg_all_count[(tuple(array[2]))] = [array[1], [array[0]]]\n",
    "            which_position_in_ms_state.append([x,array[2]])\n",
    "\n",
    "        else:\n",
    "            crg_all_count[(tuple(array[2]))][0] += array[1]\n",
    "            if len(crg_all_count[(tuple(array[2]))][1]) == 1:\n",
    "                if array[0] < crg_all_count[(tuple(array[2]))][1][0]:\n",
    "                    crg_all_count[(tuple(array[2]))][1].insert(0, array[0])\n",
    "\n",
    "\n",
    "                else:\n",
    "                    crg_all_count[(tuple(array[2]))][1].append(array[0])\n",
    "\n",
    "            else:\n",
    "                if array[0] < crg_all_count[(tuple(array[2]))][1][0]:\n",
    "                    del crg_all_count[(tuple(array[2]))][1][0]\n",
    "                    crg_all_count[(tuple(array[2]))][1].insert(0, array[0])\n",
    "                elif array[0] > crg_all_count[(tuple(array[2]))][1][-1]:\n",
    "                    crg_all_count[(tuple(array[2]))][1].pop()\n",
    "                    crg_all_count[(tuple(array[2]))][1].append(array[0])\n",
    "                else:\n",
    "                    continue\n",
    "    # make a list of count and charge microstate\n",
    "    all_crg_ms_unique  = []\n",
    "    all_count = []\n",
    "    energy_diff_all = []\n",
    "    for u,v in crg_all_count.items():\n",
    "        all_crg_ms_unique.append(list(u))\n",
    "        all_count.append(v[0])\n",
    "        if len(v[1]) == 2:\n",
    "            energy_diff_all.append(round(v[1][1]-v[1][0], 6))\n",
    "        elif len(v[1]) == 1:\n",
    "            energy_diff_all.append(0)\n",
    "        else:\n",
    "            print(\"error in dictionary\")\n",
    "    return all_crg_ms_unique, all_count, energy_diff_all, which_position_in_ms_state\n"
   ]
  },
  {
   "cell_type": "code",
   "execution_count": 12,
   "metadata": {},
   "outputs": [],
   "source": [
    "#all_crg_ms_unique, all_count,  energy_diff_all, which_position_in_ms_state \n",
    "all_crg_ms = find_unique_crg_ms(crg_orig_lst,begin_energy = crg_orig_lst[0][0], end_energy = crg_orig_lst[-1][0])"
   ]
  },
  {
   "cell_type": "code",
   "execution_count": 14,
   "metadata": {},
   "outputs": [
    {
     "name": "stdout",
     "output_type": "stream",
     "text": [
      "147\n"
     ]
    }
   ],
   "source": [
    "# let us make the list of  charge unique ms, count and sum_crg from the unique charge ms.\n",
    "pdb_unique_crg_ms_count = [list(i) for i in zip(all_crg_ms[1], all_crg_ms[0])]\n",
    "pdb_unique_crg_ms_count_sum = [[x[0],sum(fixed_res_crg_dict.values())+ sum(x[1]), x[1]] for x in pdb_unique_crg_ms_count]\n",
    "#unique_crg_ms_count_sum = sorted(unique_crg_ms_count_sum, key = lambda x:-x[0])\n",
    "print(len(pdb_unique_crg_ms_count_sum))\n",
    "#print(pdb_unique_crg_ms_count_sum)\n"
   ]
  },
  {
   "cell_type": "code",
   "execution_count": 15,
   "metadata": {},
   "outputs": [
    {
     "name": "stdout",
     "output_type": "stream",
     "text": [
      "[[647121, 10.0, [1, 7, 20, 36, 42, 43, 46, 55, 58, 69, 79, 81, 83, 86, 92, 94, 104, 112, 116, 123, 125, 129, 132, 137, 146, 154, 160, 174, 185, 188, 198, 203, 211, 223, 228, 229, 233, 236, 245, 254, 260, 263, 283]], [510091, 9.0, [1, 7, 20, 36, 42, 43, 46, 55, 58, 72, 79, 81, 83, 86, 92, 94, 104, 112, 116, 123, 125, 129, 132, 137, 146, 154, 160, 174, 185, 188, 198, 203, 211, 223, 228, 229, 233, 236, 245, 254, 260, 263, 283]], [67367, 11.0, [1, 7, 20, 36, 42, 43, 46, 55, 58, 69, 79, 81, 83, 86, 92, 94, 105, 112, 116, 123, 125, 129, 132, 137, 146, 154, 160, 174, 184, 188, 198, 203, 211, 223, 224, 229, 233, 236, 245, 254, 260, 263, 283]], [57598, 10.0, [1, 6, 20, 36, 42, 43, 46, 55, 58, 72, 79, 81, 83, 86, 92, 94, 104, 112, 116, 123, 125, 129, 132, 137, 146, 154, 162, 174, 185, 188, 198, 203, 211, 223, 227, 229, 233, 236, 245, 254, 260, 263, 283]], [33380, 9.0, [0, 7, 20, 36, 42, 43, 46, 55, 58, 69, 78, 81, 83, 86, 92, 94, 105, 112, 116, 123, 125, 129, 132, 137, 146, 154, 160, 174, 184, 188, 198, 203, 211, 223, 228, 229, 233, 237, 245, 254, 260, 263, 283]]]\n"
     ]
    }
   ],
   "source": [
    "# we know the first postion of unique charge and ms state from  which_position_in_ms_state. Let us try to make list that\n",
    "# has count, charge and microstate position.\n",
    "# match the charge set from unique to get count. Now only match both unique length and take ms conformers microstate\n",
    "def match_unique_ms(list_1, list_2):\n",
    "    count_sum_position = []\n",
    "    # list_1 is pdb_from unique_crg_ms_count_sum\n",
    "    # list_2 is which_position_in_ms_state from function find_unique_crg_ms\n",
    "    x, y = 0, 0\n",
    "    while x < len(list_1):\n",
    "        if list_1[x][2] == list_2[y][1]:\n",
    "        #print(unique_crg_ms_count_sum[x][2])\n",
    "        \n",
    "            count_sum_position.append([list_1[x][0], list_1[x][1], list_2[y][0]])\n",
    "            x += 1\n",
    "            y = 0\n",
    "        \n",
    "        else:\n",
    "            y += 1\n",
    "        \n",
    "    return count_sum_position\n",
    "\n",
    "# this is to filter out conf ms state.\n",
    "#pdb_conf_ms_count =[[ms_orig_lst[x[2]]] for x in  match_unique_ms(pdb_unique_crg_ms_count_sum, all_crg_ms[3])] \n",
    "pdb_ms_count_crg_conf = [[x[0], x[1], ms_orig_lst[x[2]][2]] for x in match_unique_ms(pdb_unique_crg_ms_count_sum, all_crg_ms[3])]\n",
    "# sort based on count. Highest count first.\n",
    "pdb_ms_count_crg_conf  = sorted(pdb_ms_count_crg_conf, key=  lambda x: -x[0])\n",
    "print(pdb_ms_count_crg_conf[:5])"
   ]
  },
  {
   "cell_type": "code",
   "execution_count": 19,
   "metadata": {},
   "outputs": [
    {
     "name": "stdout",
     "output_type": "stream",
     "text": [
      "Skiping 100 microstate\n"
     ]
    }
   ],
   "source": [
    "# define here how many ms states you want to skip. This will write the pdb in the form of step2_out for each ms state. If your\n",
    "# system is large then please do not write every pdb otherwise it will raise the memory issue. Give the directory name you \n",
    "# want to create and save the files.\n",
    "write_ms2_pdb(pdb_ms_count_crg_conf, ms_start =0, skip_step_ms = 100, output_folder = \"count_pdb\")"
   ]
  },
  {
   "cell_type": "code",
   "execution_count": null,
   "metadata": {},
   "outputs": [],
   "source": []
  }
 ],
 "metadata": {
  "kernelspec": {
   "display_name": "Python 3",
   "language": "python",
   "name": "python3"
  },
  "language_info": {
   "codemirror_mode": {
    "name": "ipython",
    "version": 3
   },
   "file_extension": ".py",
   "mimetype": "text/x-python",
   "name": "python",
   "nbconvert_exporter": "python",
   "pygments_lexer": "ipython3",
   "version": "3.7.7"
  }
 },
 "nbformat": 4,
 "nbformat_minor": 4
}
