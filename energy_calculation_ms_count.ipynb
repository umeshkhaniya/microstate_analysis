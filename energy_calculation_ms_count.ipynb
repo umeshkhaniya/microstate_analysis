{
 "cells": [
  {
   "cell_type": "markdown",
   "metadata": {},
   "source": [
    "# Calculate the $\\Delta G$ between two residues"
   ]
  },
  {
   "cell_type": "markdown",
   "metadata": {},
   "source": [
    "\n",
    "Let A and B are the two residues in a chemical reaction then,\n",
    "\n",
    "$AH + B ⇌ A^{-} + BH$\n",
    " \n",
    "Free energy\n",
    " \n",
    "$\\Delta G = - RT \\ln\\frac{[A^{-}] [BH]} {[AH]  [B]}$\n",
    " \n",
    "But for microstate since A and B are need to appear in each microstate then\n",
    " \n",
    "\n",
    " \n",
    " $\\Delta G = - RT \\ln\\frac{[A^{-}| BH ]} {[AH | B]}$\n",
    " \n",
    "where RT =  1.36 in log10 and  RT = 0.593  in ln \n",
    "\n",
    "\n",
    "\n"
   ]
  },
  {
   "cell_type": "markdown",
   "metadata": {},
   "source": [
    "#  The will also find entropy term from Gibs free energy:\n",
    "\n",
    "$\\Delta G  = \\Delta H - T \\Delta S $ \n",
    "\n",
    "$T \\Delta S   = \\Delta H - \\Delta G $ "
   ]
  },
  {
   "cell_type": "code",
   "execution_count": 1,
   "metadata": {},
   "outputs": [],
   "source": [
    "import ms_analysis as msa"
   ]
  },
  {
   "cell_type": "code",
   "execution_count": 2,
   "metadata": {},
   "outputs": [],
   "source": [
    "mc = msa.MSout(\"../ms_out/pH5eH0ms.txt\")"
   ]
  },
  {
   "cell_type": "code",
   "execution_count": 3,
   "metadata": {},
   "outputs": [],
   "source": [
    "ms_orig_lst = [[ms.E, ms.count, ms.state] for  ms in list((mc.microstates.values()))]\n",
    "ms_orig_lst = sorted(ms_orig_lst, key = lambda x:x[0])"
   ]
  },
  {
   "cell_type": "code",
   "execution_count": 4,
   "metadata": {},
   "outputs": [],
   "source": [
    "import numpy as np\n",
    "#res1 = [\"GLUA35\", 0]\n",
    "#res2 = [\"ASPA52\", -1]\n",
    "def Count_residue_condition(res1, res2, ms_list):\n",
    "    # here we create the separate dictionary for list beacuase we need to track later which conformers is\n",
    "    # from which residues\n",
    "    res1_iconf = {conf.iconf: int(conf.crg) for conf in msa.conformers \\\n",
    "                  if (conf.resid[:4] + str(int(conf.resid[4:8]))) in res1[0]}\n",
    "\n",
    "    res2_iconf = {conf.iconf: int(conf.crg) for conf in msa.conformers \\\n",
    "                  if (conf.resid[:4] + str(int(conf.resid[4:8]))) in res2[0]}\n",
    "   \n",
    "    combine_iconf = {**res1_iconf, **res2_iconf}\n",
    "    # this is for look up in order to track whether given residues are in fixed ms residues list or not.\n",
    "    # If your have given the charge that is not present in microstate or in fixed conformers it will check.\n",
    "    check_crg = True\n",
    "    for i, j in combine_iconf.items():\n",
    "        if i in mc.fixed_iconfs:\n",
    "            if i in res1_iconf.keys():\n",
    "                print(f\"{res1[0]} is fixed with charge {res1[1]}\")\n",
    "                if res1[1] != j:\n",
    "                    check_crg = False\n",
    "                    print(f\"Stop! {res1[0]} not found in {res1[1]} charge state\")\n",
    "                    return \"No Count\", \"No ms energy\"\n",
    "            if i in res2_iconf.keys():\n",
    "                print(f\"{res2[0]} is fixed with charge {res2[1]}\")\n",
    "                if res2[1] != j:\n",
    "                    check_crg = False\n",
    "                    print(f\"Stop! {res2[0]} not found in {res2[1]} charge state\")\n",
    "                    return \"Given Charge combination doesn't exit\", \"Given Charge combination doesn't exit\"\n",
    "\n",
    "\n",
    "     #now find the confomers position in ms state in order to speed up searching position. \n",
    "    #take first ms state for this.\n",
    "    #first_ms_lookup = list(mc.microstates.values())[0].state\n",
    "    first_ms_lookup = ms_list[0][2]\n",
    "    res1_position_ms, res2_position_ms = -1, -1\n",
    "    for i in range(len(first_ms_lookup)):\n",
    "        if first_ms_lookup[i] in res1_iconf:\n",
    "            res1_position_ms = i\n",
    "        if first_ms_lookup[i] in res2_iconf:\n",
    "            res2_position_ms = i\n",
    "    \n",
    "\n",
    "    # # group reisudes based on given condition. Make list of the conformers for look up.\n",
    "    res1_iconf_given_crg = [x for x, y in res1_iconf.items() if y == res1[1]]\n",
    "    res2_iconf_given_crg = [x for x, y in res2_iconf.items() if y == res2[1]]\n",
    "    \n",
    "\n",
    "\n",
    "    # # count based given charge condition\n",
    "    count_given_condition = 0\n",
    "    # # this will find all the sum of ms state to get count\n",
    "\n",
    "    # if any of the residues are fixed then we willn't see the that residues in ms state\n",
    "    energy_sum_condition= 0\n",
    "    if check_crg:\n",
    "        for i in ms_list:\n",
    "            if res1_position_ms != -1 and res2_position_ms != -1:\n",
    "                if i[2][res1_position_ms] in res1_iconf_given_crg and i[2][res2_position_ms] in res2_iconf_given_crg:\n",
    "                    count_given_condition += i[1]\n",
    "                    energy_sum_condition += i[1] * i[0]\n",
    "            elif res1_position_ms != -1 and res2_position_ms == -1:\n",
    "                if i[2][res1_position_ms] in res1_iconf_given_crg:\n",
    "                    count_given_condition += i[1]\n",
    "                    energy_sum_condition += i[1] * i[0]\n",
    "                # check if that charge state appear in ms\n",
    "            elif res1_position_ms == -1 and res2_position_ms != -1:\n",
    "                if i[2][res2_position_ms] in res2_iconf_given_crg:\n",
    "                    count_given_condition += i[1]\n",
    "                    energy_sum_condition += i[1] * i[0]\n",
    "            else:\n",
    "                count_given_condition += i[1]\n",
    "                energy_sum_condition += i[1] * i[0]\n",
    "        if count_given_condition == 0:\n",
    "             return \"Given Charge combination doesn't exit\", \"Given Charge combination doesn't exit\"\n",
    "        else:\n",
    "            return count_given_condition, round((energy_sum_condition / count_given_condition), 3)\n"
   ]
  },
  {
   "cell_type": "code",
   "execution_count": 5,
   "metadata": {},
   "outputs": [],
   "source": [
    "import math\n",
    "# RT =  1.36 #1.36 if log10 and if RT = 0.593 if in ln \n",
    "def deltaG_from_count(reactant, product):\n",
    "    # if residues are fixed then left or right will not return int\n",
    "    if type(reactant) != int or type(product) != int:\n",
    "        return (\"Residues choosen are fixed\")\n",
    "    elif reactant == 0 or  product == 0:\n",
    "        return (\"Value Error\")\n",
    "    else:\n",
    "        deltaG = round(- 1.36 * math.log10(product /reactant), 3)\n",
    "        return deltaG\n",
    "   "
   ]
  },
  {
   "cell_type": "code",
   "execution_count": 6,
   "metadata": {},
   "outputs": [
    {
     "name": "stdout",
     "output_type": "stream",
     "text": [
      "Average reactant ms energy: -198.698 Kcal/Mol\n",
      "Average product ms energy: -196.105 Kcal/Mol\n",
      "Reactant number: 817457\n",
      "Product number: 24832\n",
      "Total reactant and product: 842289\n",
      "Total all count: 1500000\n",
      "DeltaG: 2.064 Kcal/Mol\n",
      "DeltaH: 2.593 Kcal/Mol\n",
      "T*DeltaS: 0.529 Kcal/Mol\n"
     ]
    }
   ],
   "source": [
    "# Glu-35 has experimental pKa 6.1 whereas Asp-52 has 3.4\n",
    "# Glu-35 is proton donor and ASP52 is acceptor.\n",
    "# reaction: GLU35(0) + ASP52(-1) == GLU35(-1) + ASP52(0)\n",
    "# chisquare: GLU35 = 0.573, ASP52 = 0.094\n",
    "# slope: GLU35 = 0.954, ASP52 = 0.940\n",
    "# 0 -1 >> -1 0\n",
    "reactant = Count_residue_condition([\"GLUA35\", 0], [\"ASPA52\", -1], ms_orig_lst)\n",
    "product=  Count_residue_condition([\"GLUA35\", -1], [\"ASPA52\", 0],  ms_orig_lst)\n",
    "print(f\"Average reactant ms energy: {reactant[1]} Kcal/Mol\")\n",
    "print(f\"Average product ms energy: {product[1]} Kcal/Mol\")\n",
    "print(f\"Reactant number: {reactant[0]}\")\n",
    "print(f\"Product number: {product[0]}\")\n",
    "print(f\"Total reactant and product: {reactant[0] + product[0]}\")\n",
    "print(f\"Total all count: {mc.N_ms}\")\n",
    "print(f\"DeltaG: {deltaG_from_count(reactant[0], product[0])} Kcal/Mol\")\n",
    "print(f\"DeltaH: {product[1] - reactant[1]:.3f} Kcal/Mol\")\n",
    "print(f\"T*DeltaS: {(product[1] - reactant[1]) - deltaG_from_count(reactant[0], product[0]):.3f} Kcal/Mol\")\n"
   ]
  },
  {
   "cell_type": "code",
   "execution_count": 7,
   "metadata": {},
   "outputs": [
    {
     "name": "stdout",
     "output_type": "stream",
     "text": [
      "Average reactant ms energy: -195.017 Kcal/Mol\n",
      "Average product ms energy: -198.698 Kcal/Mol\n",
      "Reactant number: 5281\n",
      "Product number: 817457\n",
      "Total reactant and product: 822738\n",
      "Total all count: 1500000\n",
      "DeltaG: -2.978 Kcal/Mol\n",
      "DeltaH: -3.681 Kcal/Mol\n",
      "T*DeltaS: -0.703 Kcal/Mol\n"
     ]
    }
   ],
   "source": [
    "# energy for thermodynamic box:\n",
    "## 0 0 >>>  0 -1\n",
    "r1 = Count_residue_condition([\"GLUA35\", 0], [\"ASPA52\", 0], ms_orig_lst)\n",
    "p1 = Count_residue_condition([\"GLUA35\", 0], [\"ASPA52\", -1], ms_orig_lst)\n",
    "print(f\"Average reactant ms energy: {r1[1]} Kcal/Mol\")\n",
    "print(f\"Average product ms energy: {p1[1]} Kcal/Mol\")\n",
    "print(f\"Reactant number: {r1[0]}\")\n",
    "print(f\"Product number: {p1[0]}\")\n",
    "print(f\"Total reactant and product: {r1[0]+ p1[0]}\")\n",
    "print(f\"Total all count: {mc.N_ms}\")\n",
    "print(f\"DeltaG: {deltaG_from_count(r1[0], p1[0])} Kcal/Mol\")\n",
    "print(f\"DeltaH: {p1[1] - r1[1]:.3f} Kcal/Mol\")\n",
    "print(f\"T*DeltaS: {(p1[1] - r1[1]) - deltaG_from_count(r1[0], p1[0]):.3f} Kcal/Mol\")\n"
   ]
  },
  {
   "cell_type": "code",
   "execution_count": 8,
   "metadata": {},
   "outputs": [
    {
     "name": "stdout",
     "output_type": "stream",
     "text": [
      "Average reactant ms energy: -198.698 Kcal/Mol\n",
      "Average product ms energy: -198.906 Kcal/Mol\n",
      "Reactant number: 817457\n",
      "Product number: 652430\n",
      "Total reactant and product: 1469887\n",
      "Total all count: 1500000\n",
      "DeltaG: 0.133 Kcal/Mol\n",
      "DeltaH: -0.208 Kcal/Mol\n",
      "T*DeltaS: -0.341 Kcal/Mol\n"
     ]
    }
   ],
   "source": [
    "# energy for thermodynamic box:\n",
    "## 0 -1 >>>  -1 -1\n",
    "r2 = Count_residue_condition([\"GLUA35\", 0], [\"ASPA52\", -1], ms_orig_lst)\n",
    "p2 = Count_residue_condition([\"GLUA35\", -1], [\"ASPA52\", -1], ms_orig_lst)\n",
    "print(f\"Average reactant ms energy: {r2[1]} Kcal/Mol\")\n",
    "print(f\"Average product ms energy: {p2[1]} Kcal/Mol\")\n",
    "print(f\"Reactant number: {r2[0]}\")\n",
    "print(f\"Product number: {p2[0]}\")\n",
    "print(f\"Total reactant and product: {r2[0]+ p2[0]}\")\n",
    "print(f\"Total all count: {mc.N_ms}\")\n",
    "print(f\"DeltaG: {deltaG_from_count(r2[0], p2[0])} Kcal/Mol\")\n",
    "print(f\"DeltaH: {p2[1] - r2[1]:.3f} Kcal/Mol\")\n",
    "print(f\"T*DeltaS: {(p2[1] - r2[1]) - deltaG_from_count(r2[0], p2[0]):.3f} Kcal/Mol\")"
   ]
  },
  {
   "cell_type": "code",
   "execution_count": 9,
   "metadata": {},
   "outputs": [
    {
     "name": "stdout",
     "output_type": "stream",
     "text": [
      "Average reactant ms energy: -198.906 Kcal/Mol\n",
      "Average product ms energy: -196.105 Kcal/Mol\n",
      "Reactant number: 652430\n",
      "Product number: 24832\n",
      "Total reactant and product: 677262\n",
      "Total all count: 1500000\n",
      "DeltaG: 1.931 Kcal/Mol\n",
      "DeltaH: 2.801 Kcal/Mol\n",
      "T*DeltaS: 0.870 Kcal/Mol\n"
     ]
    }
   ],
   "source": [
    "# energy for thermodynamic box:\n",
    "## -1 -1 >>>  -1 0\n",
    "r3 = Count_residue_condition([\"GLUA35\", -1], [\"ASPA52\", -1], ms_orig_lst)\n",
    "p3 = Count_residue_condition([\"GLUA35\", -1], [\"ASPA52\", 0], ms_orig_lst)\n",
    "print(f\"Average reactant ms energy: {r3[1]} Kcal/Mol\")\n",
    "print(f\"Average product ms energy: {p3[1]} Kcal/Mol\")\n",
    "print(f\"Reactant number: {r3[0]}\")\n",
    "print(f\"Product number: {p3[0]}\")\n",
    "print(f\"Total reactant and product: {r3[0]+ p3[0]}\")\n",
    "print(f\"Total all count: {mc.N_ms}\")\n",
    "print(f\"DeltaG: {deltaG_from_count(r3[0], p3[0])} Kcal/Mol\")\n",
    "print(f\"DeltaH: {p3[1] - r3[1]:.3f} Kcal/Mol\")\n",
    "print(f\"T*DeltaS: {(p3[1] - r3[1]) - deltaG_from_count(r3[0], p3[0]):.3f} Kcal/Mol\")\n"
   ]
  },
  {
   "cell_type": "code",
   "execution_count": 10,
   "metadata": {},
   "outputs": [
    {
     "name": "stdout",
     "output_type": "stream",
     "text": [
      "Average reactant ms energy: -196.105 Kcal/Mol\n",
      "Average product ms energy: -195.017 Kcal/Mol\n",
      "Reactant number: 24832\n",
      "Product number: 5281\n",
      "Total reactant and product: 30113\n",
      "Total all count: 1500000\n",
      "DeltaG: 0.914 Kcal/Mol\n",
      "DeltaH: 1.088 Kcal/Mol\n",
      "T*DeltaS: 0.174 Kcal/Mol\n"
     ]
    }
   ],
   "source": [
    "# energy for thermodynamic box:\n",
    "## -1 0 >>>  0 0\n",
    "r4 = Count_residue_condition([\"GLUA35\", -1], [\"ASPA52\", 0], ms_orig_lst)\n",
    "p4 = Count_residue_condition([\"GLUA35\", 0], [\"ASPA52\", 0], ms_orig_lst)\n",
    "print(f\"Average reactant ms energy: {r4[1]} Kcal/Mol\")\n",
    "print(f\"Average product ms energy: {p4[1]} Kcal/Mol\")\n",
    "print(f\"Reactant number: {r4[0]}\")\n",
    "print(f\"Product number: {p4[0]}\")\n",
    "print(f\"Total reactant and product: {r4[0]+ p4[0]}\")\n",
    "print(f\"Total all count: {mc.N_ms}\")\n",
    "print(f\"DeltaG: {deltaG_from_count(r4[0], p4[0])} Kcal/Mol\")\n",
    "print(f\"DeltaH: {p4[1] - r4[1]:.3f} Kcal/Mol\")\n",
    "print(f\"T*DeltaS: {(p4[1] - r4[1]) - deltaG_from_count(r4[0], p4[0]):.3f} Kcal/Mol\")"
   ]
  },
  {
   "cell_type": "code",
   "execution_count": 11,
   "metadata": {},
   "outputs": [
    {
     "name": "stdout",
     "output_type": "stream",
     "text": [
      "Average reactant ms energy: -195.017 Kcal/Mol\n",
      "Average product ms energy: -198.906 Kcal/Mol\n",
      "Reactant number: 5281\n",
      "Product number: 652430\n",
      "Total reactant and product: 657711\n",
      "Total all count: 1500000\n",
      "DeltaG: -2.845 Kcal/Mol\n",
      "DeltaH: -3.889 Kcal/Mol\n",
      "T*DeltaS: -1.044 Kcal/Mol\n"
     ]
    }
   ],
   "source": [
    "# energy for thermodynamic box:\n",
    "## 0 0 >>>  -1 -1\n",
    "r5 = Count_residue_condition([\"GLUA35\", 0], [\"ASPA52\", 0], ms_orig_lst)\n",
    "p5 = Count_residue_condition([\"GLUA35\", -1], [\"ASPA52\", -1], ms_orig_lst)\n",
    "print(f\"Average reactant ms energy: {r5[1]} Kcal/Mol\")\n",
    "print(f\"Average product ms energy: {p5[1]} Kcal/Mol\")\n",
    "print(f\"Reactant number: {r5[0]}\")\n",
    "print(f\"Product number: {p5[0]}\")\n",
    "print(f\"Total reactant and product: {r5[0]+ p5[0]}\")\n",
    "print(f\"Total all count: {mc.N_ms}\")\n",
    "print(f\"DeltaG: {deltaG_from_count(r5[0], p5[0])} Kcal/Mol\")\n",
    "print(f\"DeltaH: {p5[1] - r5[1]:.3f} Kcal/Mol\")\n",
    "print(f\"T*DeltaS: {(p5[1] - r5[1]) - deltaG_from_count(r5[0], p5[0]):.3f} Kcal/Mol\")"
   ]
  },
  {
   "cell_type": "code",
   "execution_count": null,
   "metadata": {},
   "outputs": [],
   "source": []
  }
 ],
 "metadata": {
  "kernelspec": {
   "display_name": "Python 3",
   "language": "python",
   "name": "python3"
  },
  "language_info": {
   "codemirror_mode": {
    "name": "ipython",
    "version": 3
   },
   "file_extension": ".py",
   "mimetype": "text/x-python",
   "name": "python",
   "nbconvert_exporter": "python",
   "pygments_lexer": "ipython3",
   "version": "3.7.7"
  }
 },
 "nbformat": 4,
 "nbformat_minor": 4
}
