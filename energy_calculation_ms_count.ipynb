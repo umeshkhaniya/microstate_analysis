{
 "cells": [
  {
   "cell_type": "markdown",
   "metadata": {},
   "source": [
    "# Calculate the $\\Delta G$ between two residues"
   ]
  },
  {
   "cell_type": "markdown",
   "metadata": {},
   "source": [
    "\n",
    "Let A and B are the two residues in a chemical reaction then,\n",
    "\n",
    "$AH + B ⇌ A^{-} + BH$\n",
    " \n",
    "Free energy\n",
    " \n",
    "$\\Delta G = - RT \\ln\\frac{[A^{-}] [BH]} {[AH]  [B]}$\n",
    " \n",
    "But for microstate since A and B are need to appear in each microstate then\n",
    " \n",
    "\n",
    " \n",
    " $\\Delta G = - RT \\ln\\frac{[A^{-}| BH ]} {[AH | B]}$\n",
    " \n",
    "where RT =  1.36 in log10 and  RT = 0.593  in ln \n",
    "\n",
    "\n",
    "\n"
   ]
  },
  {
   "cell_type": "code",
   "execution_count": 1,
   "metadata": {},
   "outputs": [],
   "source": [
    "import ms_analysis as msa"
   ]
  },
  {
   "cell_type": "code",
   "execution_count": 2,
   "metadata": {},
   "outputs": [],
   "source": [
    "mc = msa.MSout(\"../ms_out/pH5eH0ms.txt\")"
   ]
  },
  {
   "cell_type": "code",
   "execution_count": 3,
   "metadata": {},
   "outputs": [],
   "source": [
    "ms_orig_lst = [[ms.E, ms.count, ms.state] for  ms in list((mc.microstates.values()))]\n",
    "ms_orig_lst = sorted(ms_orig_lst, key = lambda x:x[0])"
   ]
  },
  {
   "cell_type": "code",
   "execution_count": 5,
   "metadata": {},
   "outputs": [],
   "source": [
    "# res1 = [\"ASPA48\", -1]\n",
    "# res2 = [\"GLUA35\", 0]\n",
    "# find the deltaG energies. This will take the \n",
    "# ms_list is in the form of ms_orig_lst\n",
    "def Count_residue_condition(res1, res2, ms_list):\n",
    "    # first find the residues conformer list.\n",
    "    res1_iconf = {conf.iconf: int(conf.crg) for conf in msa.conformers \\\n",
    "                  if (conf.resid[:4] + str(int(conf.resid[4:8]))) in res1[0]}\n",
    "\n",
    "    res2_iconf = {conf.iconf: int(conf.crg) for conf in msa.conformers \\\n",
    "                  if (conf.resid[:4] + str(int(conf.resid[4:8]))) in res2[0]}\n",
    "    \n",
    "    combine_iconf = {**res1_iconf, **res2_iconf}\n",
    "    # this is for look up in order to track whether given residues are in fixed ms residues list or not.\n",
    "    look_up = set()\n",
    "    #print(mc.fixed_iconfs)\n",
    "    for i, j in combine_iconf.items():\n",
    "        if i in mc.fixed_iconfs:\n",
    "            look_up.add(i)\n",
    "    if look_up:\n",
    "        for x in look_up:\n",
    "            if x in res1_iconf.keys():\n",
    "                print(f\"{res1[0]} is fixed with charge {res1_iconf[x]}.Try free residue.\")\n",
    "            if x in res2_iconf.keys():\n",
    "                print(f\"{res2[0]} is fixed with charge {res2_iconf[x]}. Try free residue.\")\n",
    "        return(\"You have fixed residue in ms list. Try free residues\")\n",
    "\n",
    "    #now find the confomers position in ms state in order to speed up searching position. \n",
    "    #Take first ms state for this.\n",
    "    first_ms_lookup = list(mc.microstates.values())[0].state\n",
    "\n",
    "    for i in range(len(first_ms_lookup)):\n",
    "        if first_ms_lookup[i] in res1_iconf:\n",
    "            res1_position_ms = i\n",
    "            #print(res1_position_ms)\n",
    "        if first_ms_lookup[i] in res2_iconf:\n",
    "            res2_position_ms = i\n",
    "            #print(res2_position_ms)\n",
    "    # group reisudes based on given condition. Make list of the conformers for look up.\n",
    "    res1_iconf_given_crg = [x for x, y in res1_iconf.items() if y == res1[1]]\n",
    "    res2_iconf_given_crg = [x for x, y in res2_iconf.items() if y == res2[1]]\n",
    "    # count based given charge condition\n",
    "    count_given_condition = 0\n",
    "    for i in ms_list:\n",
    "        if i[2][res1_position_ms] in res1_iconf_given_crg and i[2][res2_position_ms] in res2_iconf_given_crg:\n",
    "            count_given_condition += i[1]\n",
    "    return count_given_condition \n"
   ]
  },
  {
   "cell_type": "code",
   "execution_count": 6,
   "metadata": {},
   "outputs": [],
   "source": [
    "import math\n",
    "# RT =  1.36 #1.36 if log10 and if RT = 0.593 if in ln \n",
    "def deltaG_from_count(reactant, product):\n",
    "    # if residues are fixed then left or right will not return int\n",
    "    if type(reactant) != int or type(product) != int:\n",
    "        return (\"Residues choosen are fixed\")\n",
    "    elif reactant == 0 or  product == 0:\n",
    "        return (\"Value Error\")\n",
    "    else:\n",
    "        deltaG = round(- 1.36 * math.log10(product /reactant), 3)\n",
    "        return deltaG\n",
    "   "
   ]
  },
  {
   "cell_type": "code",
   "execution_count": 8,
   "metadata": {},
   "outputs": [
    {
     "name": "stdout",
     "output_type": "stream",
     "text": [
      "Reactant number: 817457\n",
      "Product number: 24832\n",
      "Total reactant and product: 842289\n",
      "Total all count: 1500000\n",
      "DeltaG: 2.064 Kcal/Mol\n"
     ]
    }
   ],
   "source": [
    "# Glu-35 has experimental pKa 6.1 whereas Asp-52 has 3.4\n",
    "# Glu-35 is proton donor and ASP52 is acceptor.\n",
    "# reaction: GLU35(0) + ASP52(-1) == GLU35(-1) + ASP52(0)\n",
    "# chisquare: GLU35 = 0.573, ASP52 = 0.094\n",
    "# slope: GLU35 = 0.954, ASP52 = 0.940\n",
    "reactant = Count_residue_condition([\"GLUA35\", 0], [\"ASPA52\", -1], ms_orig_lst)\n",
    "product=  Count_residue_condition([\"GLUA35\", -1], [\"ASPA52\", 0],  ms_orig_lst)\n",
    "print(f\"Reactant number: {reactant}\")\n",
    "print(f\"Product number: {product}\")\n",
    "print(f\"Total reactant and product: {reactant + product}\")\n",
    "print(f\"Total all count: {mc.N_ms}\")\n",
    "print(f\"DeltaG: {deltaG_from_count(reactant, product)} Kcal/Mol\")\n"
   ]
  },
  {
   "cell_type": "code",
   "execution_count": null,
   "metadata": {},
   "outputs": [],
   "source": []
  }
 ],
 "metadata": {
  "kernelspec": {
   "display_name": "Python 3",
   "language": "python",
   "name": "python3"
  },
  "language_info": {
   "codemirror_mode": {
    "name": "ipython",
    "version": 3
   },
   "file_extension": ".py",
   "mimetype": "text/x-python",
   "name": "python",
   "nbconvert_exporter": "python",
   "pygments_lexer": "ipython3",
   "version": "3.7.7"
  }
 },
 "nbformat": 4,
 "nbformat_minor": 4
}
