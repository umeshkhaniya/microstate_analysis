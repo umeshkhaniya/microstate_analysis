{
 "cells": [
  {
   "cell_type": "markdown",
   "metadata": {},
   "source": [
    "## This is the post processing tool for microstate file."
   ]
  },
  {
   "cell_type": "markdown",
   "metadata": {},
   "source": [
    "### Load the Library to read the input files."
   ]
  },
  {
   "cell_type": "code",
   "execution_count": 1,
   "metadata": {},
   "outputs": [],
   "source": [
    "import pandas as pd\n",
    "import matplotlib.pyplot as plt\n",
    "import seaborn as sns\n",
    "import numpy as np\n",
    "import ms_analysis as msa \n",
    "import math\n",
    "%matplotlib inline"
   ]
  },
  {
   "cell_type": "markdown",
   "metadata": {},
   "source": [
    "### This will read the microstate file pH5eH0ms.txt obtained from MCCE output.  Here file pH7eH0ms.txt means pH at 5."
   ]
  },
  {
   "cell_type": "code",
   "execution_count": 2,
   "metadata": {},
   "outputs": [],
   "source": [
    "mc = msa.MSout(\"../ms_out/pH5eH0ms.txt\")"
   ]
  },
  {
   "cell_type": "markdown",
   "metadata": {},
   "source": [
    "### We are intrested in the microstate enthalpy, count and microstate id. These quantities are saved in a list and list are sorted based enthalpy from lowest to highest "
   ]
  },
  {
   "cell_type": "code",
   "execution_count": 3,
   "metadata": {},
   "outputs": [
    {
     "name": "stdout",
     "output_type": "stream",
     "text": [
      "[[-203.360062, 8, [1, 7, 20, 36, 42, 43, 46, 55, 58, 72, 79, 81, 83, 86, 92, 94, 104, 112, 116, 123, 125, 129, 132, 137, 146, 154, 160, 174, 185, 188, 198, 203, 211, 223, 228, 229, 233, 236, 245, 254, 260, 263, 283]], [-203.349625, 8, [1, 7, 20, 36, 42, 43, 46, 55, 58, 69, 79, 81, 83, 86, 92, 94, 104, 112, 116, 123, 125, 129, 132, 137, 146, 154, 160, 174, 185, 188, 198, 203, 211, 223, 228, 229, 233, 236, 245, 254, 260, 263, 283]], [-203.345627, 2, [1, 7, 20, 36, 42, 43, 46, 55, 58, 72, 79, 81, 83, 86, 92, 95, 104, 112, 116, 123, 125, 129, 132, 137, 146, 154, 160, 174, 185, 188, 198, 203, 211, 223, 228, 229, 233, 236, 245, 254, 260, 263, 283]], [-203.320267, 10, [1, 7, 20, 36, 42, 43, 46, 55, 58, 72, 79, 81, 83, 86, 92, 94, 104, 112, 116, 123, 125, 129, 132, 137, 146, 154, 162, 174, 185, 188, 198, 203, 211, 223, 228, 229, 233, 236, 245, 254, 260, 263, 283]], [-203.285995, 5, [1, 7, 20, 36, 42, 43, 46, 55, 58, 69, 79, 81, 83, 86, 92, 94, 104, 112, 116, 123, 125, 129, 132, 137, 146, 154, 162, 174, 185, 188, 198, 203, 211, 223, 228, 229, 233, 236, 245, 254, 260, 263, 283]]]\n"
     ]
    }
   ],
   "source": [
    "ms_orig_lst = [[ms.E, ms.count, ms.state] for  ms in list((mc.microstates.values()))]\n",
    "ms_orig_lst = sorted(ms_orig_lst, key = lambda x:x[0])\n",
    "\n",
    "print(ms_orig_lst[:5])"
   ]
  },
  {
   "cell_type": "markdown",
   "metadata": {},
   "source": [
    "### Total number of count."
   ]
  },
  {
   "cell_type": "code",
   "execution_count": 4,
   "metadata": {},
   "outputs": [
    {
     "name": "stdout",
     "output_type": "stream",
     "text": [
      "1500000\n"
     ]
    }
   ],
   "source": [
    "print(sum([x[1] for x in ms_orig_lst]))"
   ]
  },
  {
   "cell_type": "markdown",
   "metadata": {},
   "source": [
    "### Main purpose of this method is to understand the charge. Let us convert the conformer id to the charge."
   ]
  },
  {
   "cell_type": "code",
   "execution_count": null,
   "metadata": {},
   "outputs": [],
   "source": [
    "id_vs_charge = {}\n",
    "for conf in msa.conformers:\n",
    "    id_vs_charge[conf.iconf] = conf.crg\n",
    "\n",
    "def convert_ms_crg(l, d):\n",
    "    crg_lst =[[y[0], y[1], [convert_ms_crg(x, d) if isinstance(x, list) else d.get(x, x) for x in y[2]]] for y in l]\n",
    "    return crg_lst\n",
    "\n",
    "crg_orig_lst = convert_ms_crg(ms_orig_lst, id_vs_charge )\n",
    "print(crg_orig_lst[:5])"
   ]
  },
  {
   "cell_type": "markdown",
   "metadata": {},
   "source": [
    "### This is to plot the enthalpy distribution with considering count and witthout count"
   ]
  },
  {
   "cell_type": "code",
   "execution_count": null,
   "metadata": {},
   "outputs": [],
   "source": [
    "energy_lst_count =np.asarray([a for a,f in zip([x[0] for x in crg_orig_lst], [x[1] for x in crg_orig_lst]) for _ in range(f)])\n",
    "energy_lst = np.asarray([x[0] for  x in crg_orig_lst])\n",
    "\n",
    "fig = plt.figure(figsize = (12,6))\n",
    "fig.suptitle(\"4lzt at pH5\")\n",
    "\n",
    "plt.subplot(121)\n",
    "plt.title(' Total Count (MC)')\n",
    "sns.histplot(energy_lst_count,binwidth=0.2, kde = True)\n",
    "plt.xlabel(\" Enthalpy (Kcal/Mol)\")\n",
    "\n",
    "\n",
    "plt.subplot(122)\n",
    "sns.histplot(energy_lst, binwidth=0.2)\n",
    "plt.title('No Count from MC')\n",
    "plt.xlabel(\" Enthalpy (Kcal/Mol)\")\n",
    "fig.savefig(\"enthalpy_dis.pdf\", dpi = 600, bbox_inches = \"tight\")"
   ]
  },
  {
   "cell_type": "markdown",
   "metadata": {},
   "source": [
    "### Free residues that is residues that are shown in the microstate list"
   ]
  },
  {
   "cell_type": "code",
   "execution_count": null,
   "metadata": {},
   "outputs": [],
   "source": [
    "free_residues = []\n",
    "for res in mc.free_residues:\n",
    "    free_residues.append(msa.conformers[res[0]].resid)\n",
    "ms_free_residues = pd.DataFrame(free_residues,columns = [\"Residue\"])\n",
    "ms_free_residues[:5]\n"
   ]
  },
  {
   "cell_type": "markdown",
   "metadata": {},
   "source": [
    "### This is for the residues that are titrable but not microstate list."
   ]
  },
  {
   "cell_type": "code",
   "execution_count": null,
   "metadata": {},
   "outputs": [],
   "source": [
    "fixed_resid = []\n",
    "for conf in msa.conformers:\n",
    "    if conf.resid not in free_residues:\n",
    "        if conf.resid[:3] == \"NTR\" or conf.resid[:3] == \"CTR\" or conf.resid[:3] == \"HIS\" or conf.resid[:3] == \"LYS\" or conf.resid[:3] == \"ARG\" or conf.resid[:3] == \"CYS\" or conf.resid[:3] == \"ASP\" or conf.resid[:3] == \"GLU\" or conf.resid[:3] == \"TYR\":\n",
    "            if conf.resid not in fixed_resid:\n",
    "                fixed_resid.append(conf.resid)\n",
    "    \n",
    "print(fixed_resid[:5])"
   ]
  },
  {
   "cell_type": "markdown",
   "metadata": {},
   "source": [
    "### In order to get the charge of microstate, it needs to consider the charge of free residues and fixed residues. so, this is to read the charge of fixed residues which is  here called as background charge."
   ]
  },
  {
   "cell_type": "code",
   "execution_count": null,
   "metadata": {},
   "outputs": [],
   "source": [
    "def read_backcrg(fname, ph):\n",
    "    fixed_resid_vs_crg = {} \n",
    "    lines = open(fname).readlines()[:-4]\n",
    "    headline = lines.pop(0)\n",
    "    fields = headline.split()\n",
    "    t_type = fields[0].strip()\n",
    "    t_points = [float(x) for x in fields[1:]]\n",
    "    index_ph = t_points.index(float(ph)) + 1\n",
    "    for line in lines:\n",
    "        fields = line.split()\n",
    "        if (fields[0][:3] + fields[0][4:]) in fixed_resid:\n",
    "            fixed_resid_vs_crg[(fields[0][:3] + fields[0][4:])] = round(float(fields[index_ph]), 0)\n",
    "    back_crg= round(sum(list(fixed_resid_vs_crg.values())),0)\n",
    "\n",
    "    return back_crg, fixed_resid_vs_crg"
   ]
  },
  {
   "cell_type": "markdown",
   "metadata": {},
   "source": [
    "### Select same ph as you load the miscrostate file to get the background charge. This will make the pandas data frame for fixed residues with the protonation state information.\n",
    "\n",
    "## Note: Give same pH"
   ]
  },
  {
   "cell_type": "code",
   "execution_count": null,
   "metadata": {},
   "outputs": [],
   "source": [
    "fixed_sum_crg = read_backcrg(\"../sum_crg.out\", 5)\n",
    "fixed_residues_crg = pd.DataFrame(fixed_sum_crg[1].items(), columns=['Residue', 'crg'])\n",
    "fixed_residues_crg[:5]"
   ]
  },
  {
   "cell_type": "markdown",
   "metadata": {},
   "source": [
    "### Since we have the large charge microstate files so this will give you  unique charge state, enthalpy range of that charge state and how many times that charge state appear in Monte Carlo run as count in all enthalpy range."
   ]
  },
  {
   "cell_type": "code",
   "execution_count": null,
   "metadata": {},
   "outputs": [],
   "source": [
    "crg_all_count = {}\n",
    "for array in crg_orig_lst:\n",
    "    if tuple(array[2]) not in crg_all_count.keys():\n",
    "        crg_all_count[(tuple(array[2]))] = [array[1], [array[0]]]\n",
    "        \n",
    "    else:\n",
    "        crg_all_count[(tuple(array[2]))][0] += array[1]\n",
    "        if len(crg_all_count[(tuple(array[2]))][1]) == 1:\n",
    "            \n",
    "            if array[0] < crg_all_count[(tuple(array[2]))][1][0]:\n",
    "                crg_all_count[(tuple(array[2]))][1].insert(0, array[0])\n",
    "                \n",
    "            \n",
    "            else:\n",
    "                crg_all_count[(tuple(array[2]))][1].append(array[0])\n",
    "                \n",
    "        else:\n",
    "            if array[0] < crg_all_count[(tuple(array[2]))][1][0]:\n",
    "                del crg_all_count[(tuple(array[2]))][1][0]\n",
    "                crg_all_count[(tuple(array[2]))][1].insert(0, array[0])\n",
    "            elif array[0] > crg_all_count[(tuple(array[2]))][1][-1]:\n",
    "                crg_all_count[(tuple(array[2]))][1].pop()\n",
    "                crg_all_count[(tuple(array[2]))][1].append(array[0])\n",
    "            else:\n",
    "                continue\n",
    "                \n",
    "# make a list of count and charge microstate\n",
    "all_crg_ms_unique  = []\n",
    "all_count = []\n",
    "energy_diff_all = []\n",
    "for u,v in crg_all_count.items():\n",
    "    all_crg_ms_unique.append(list(u))\n",
    "    all_count.append(v[0])\n",
    "    if len(v[1]) == 2:\n",
    "        energy_diff_all.append(round(v[1][1]-v[1][0], 6))\n",
    "    elif len(v[1]) == 1:\n",
    "        energy_diff_all.append(0)\n",
    "    else:\n",
    "        print(\"error in dictionary\")\n",
    "# to check length of charge state and count \n",
    "print(len(all_crg_ms_unique) == len(energy_diff_all) == len(all_count))   \n",
    "print(f\" Total charge ms : {len(crg_orig_lst )}, Total Unique charge ms  {len(all_crg_ms_unique)}\")              \n",
    "# make the panda data frame and concatinate\n",
    "# make panda series and save\n",
    "all_crg_ms_lst = pd.DataFrame(all_crg_ms_unique).T\n",
    "all_ms_count = pd.DataFrame(all_count,columns = [\"Count\"]).T\n",
    "all_crg_ms_count_pd = pd.concat([all_crg_ms_lst.reindex(all_crg_ms_lst.index), all_ms_count])\n",
    "all_crg_count_res_1 = pd.concat([ms_free_residues, all_crg_ms_count_pd.reindex(all_crg_ms_count_pd.index)], axis=1)\n",
    "from numpy import inf\n",
    "all_crg_count_res_1 = all_crg_count_res_1.fillna('Count')\n",
    "# remove the non titrable residues\n",
    "all_crg_count_res = all_crg_count_res_1.copy()\n",
    "for x,y in all_crg_count_res.iterrows():\n",
    "    if y['Residue'][:3] != \"NTR\" and y['Residue'][:3] != \"CTR\" and y['Residue'][:5] != \"Count\" and y['Residue'][:3] != \"ASP\" and y['Residue'][:3] != \"GLU\"\\\n",
    "       and y['Residue'][:3] != \"LYS\" and y['Residue'][:3] != \"TYR\" and  y['Residue'][:3] != \"ARG\" and y['Residue'][:3] != \"CYS\"and y['Residue'][:3] != \"HIS\":\n",
    "        \n",
    "        all_crg_count_res.drop([x], inplace = True)\n",
    "\n",
    "all_crg_count_res = all_crg_count_res.set_index(\"Residue\")\n",
    "# sort based on the count\n",
    "all_crg_count_res = all_crg_count_res.sort_values(by = \"Count\", axis = 1, ascending = False)\n",
    "all_crg_count_res[:5]"
   ]
  },
  {
   "cell_type": "markdown",
   "metadata": {},
   "source": [
    "### This will plot the  tautomer charge distribution of unqiue charge microstate based on the occupancy. Each dot are unique charge microstate and color coded based on the enthalpy difference of that microstate appear in Monte Carlo run. Total charge is sum of background and free charge."
   ]
  },
  {
   "cell_type": "code",
   "execution_count": null,
   "metadata": {
    "scrolled": true
   },
   "outputs": [],
   "source": [
    "# which tautomer charge state is most populated. This includes the background charge also.\n",
    "import seaborn as sns\n",
    "import matplotlib.pyplot as plt\n",
    "import math\n",
    "%matplotlib inline\n",
    "x_av = [sum(x) + fixed_sum_crg[0] for x in all_crg_ms_unique]\n",
    "y_av = [math.log10(x) for x in all_count]\n",
    "energy_diff_all_fl = [float(x) for x in energy_diff_all]\n",
    "g1 = sns.JointGrid(marginal_ticks=True, height = 6)\n",
    "ax = sns.scatterplot(x=x_av, y=y_av, hue = energy_diff_all_fl, palette = 'viridis', size = energy_diff_all_fl, sizes=(10, 200), ax=g1.ax_joint)\n",
    "ax.set_xticks(range(int(min(x_av)), int(max(x_av)) + 1))\n",
    "ax.set_xlabel(\"Charge\",fontsize=15)\n",
    "ax.set_ylabel(\"log$_{10}$(Count)\",fontsize=16)\n",
    "ax.legend(bbox_to_anchor=(1.05, 1), loc=2, borderaxespad=0.)\n",
    "ax2 = sns.histplot(x=x_av, linewidth=2,discrete=True, ax=g1.ax_marg_x)\n",
    "\n",
    "ax2.set_ylabel(None,fontsize=16)\n",
    "g1.ax_marg_y.set_axis_off()\n",
    "g1.fig.subplots_adjust(top= 0.9)\n",
    "g1.fig.suptitle('Whole Enthalpy(4lzt)_pH5', fontsize = 16)\n",
    "g1.savefig(\"all_en_cr_ph5_vs_log(count).pdf\", dpi = 600, bbox_inches = \"tight\");"
   ]
  },
  {
   "cell_type": "markdown",
   "metadata": {},
   "source": [
    "### This is to get the unique charge microstate less or equal to  lowest enthalpy + 1.36 KCal/Mol"
   ]
  },
  {
   "cell_type": "code",
   "execution_count": null,
   "metadata": {},
   "outputs": [],
   "source": [
    "low_crg_ms = [[x[0], x[1], x[2]] for x in crg_orig_lst if x[0] <= (mc.lowest_E  + 1.36)]\n",
    "\n",
    "low_crg_count = {}\n",
    "for array in low_crg_ms :\n",
    "    if tuple(array[2]) not in low_crg_count.keys():\n",
    "        low_crg_count[(tuple(array[2]))] = array[1]\n",
    "    else:\n",
    "        low_crg_count[(tuple(array[2]))] += array[1]\n",
    "\n",
    "# make a list of count and charge microstate\n",
    "low_crg_ms_unique = []\n",
    "low_count = []\n",
    "for u,v in low_crg_count.items():\n",
    "    low_crg_ms_unique.append(list(u))\n",
    "    low_count.append(v)\n",
    "print(f\" Total charge ms : {len(low_crg_ms )}, Total Unique charge ms  {len(low_crg_ms_unique)}\")\n",
    "print(len(low_count))\n",
    "\n",
    "# make panda series and save\n",
    "low_crg_ms_lst = pd.DataFrame(low_crg_ms_unique).T\n",
    "low_ms_count = pd.DataFrame(low_count,columns = [\"Count\"]).T\n",
    "low_crg_ms_count_pd = pd.concat([low_crg_ms_lst.reindex(low_crg_ms_lst.index), low_ms_count])\n",
    "low_crg_count_res_1 = pd.concat([ms_free_residues, low_crg_ms_count_pd.reindex(low_crg_ms_count_pd.index)], axis=1)\n",
    "from numpy import inf\n",
    "low_crg_count_res_1 = low_crg_count_res_1.fillna('Count')\n",
    "# remove the non titrable residues\n",
    "low_crg_count_res = low_crg_count_res_1.copy()\n",
    "for x,y in low_crg_count_res.iterrows():\n",
    "    if y['Residue'][:3] != \"NTR\" and y['Residue'][:5] != \"Count\" and y['Residue'][:3] != \"CTR\"and y['Residue'][:3] != \"ASP\" and y['Residue'][:3] != \"GLU\"\\\n",
    "       and y['Residue'][:3] != \"LYS\" and y['Residue'][:3] != \"TYR\" and  y['Residue'][:3] != \"ARG\" and y['Residue'][:3] != \"CYS\"and y['Residue'][:3] != \"HIS\":\n",
    "        \n",
    "        low_crg_count_res.drop([x], inplace = True)\n",
    "\n",
    "low_crg_count_res = low_crg_count_res.set_index(\"Residue\")\n",
    "low_crg_count_res[:5]"
   ]
  },
  {
   "cell_type": "markdown",
   "metadata": {},
   "source": [
    "### This is to get the unique charge microstate around +/- 0.5 pH unit ( +/- 0.68  Kcal/Mol) of average enthalpy."
   ]
  },
  {
   "cell_type": "code",
   "execution_count": null,
   "metadata": {},
   "outputs": [],
   "source": [
    "av_crg_ms = [[x[0], x[1], x[2]] for x in crg_orig_lst if x[0] >= (mc.average_E  - 0.68) and  x[0] <= (mc.average_E  + 0.68)]\n",
    "\n",
    "if len(av_crg_ms) < 10:\n",
    "    print(\"less than ten microstate selected\")\n",
    "\n",
    "av_crg_count = {}\n",
    "for array in av_crg_ms :\n",
    "    if tuple(array[2]) not in av_crg_count.keys():\n",
    "        av_crg_count[(tuple(array[2]))] = array[1]\n",
    "    else:\n",
    "        av_crg_count[(tuple(array[2]))] += array[1]\n",
    "\n",
    "# make a list of count and charge microstate\n",
    "av_crg_ms_unique = []\n",
    "av_count = []\n",
    "for u,v in av_crg_count.items():\n",
    "    av_crg_ms_unique.append(list(u))\n",
    "    av_count.append(v)\n",
    "print(f\" Total charge ms : {len(av_crg_ms )}, Total Unique charge ms  {len(av_crg_ms_unique)}\")\n",
    "print(len(av_count)) \n",
    "\n",
    "    \n",
    "# make the panda data frame and concatinate\n",
    "av_crg_ms_lst = pd.DataFrame(av_crg_ms_unique).T\n",
    "av_ms_count = pd.DataFrame(av_count,columns = [\"Count\"]).T\n",
    "av_crg_ms_count_pd = pd.concat([av_crg_ms_lst.reindex(av_crg_ms_lst.index), av_ms_count])\n",
    "av_crg_count_res_1 = pd.concat([ms_free_residues, av_crg_ms_count_pd.reindex(av_crg_ms_count_pd.index)], axis=1)\n",
    "from numpy import inf\n",
    "av_crg_count_res_1 = av_crg_count_res_1.fillna('Count')\n",
    "#remove the non titrable residues\n",
    "av_crg_count_res = av_crg_count_res_1.copy()\n",
    "for x,y in av_crg_count_res.iterrows():\n",
    "    if y['Residue'][:3] != \"NTR\" and y['Residue'][:3] != \"CTR\" and y['Residue'][:5] != \"Count\" and y['Residue'][:3] != \"ASP\" and y['Residue'][:3] != \"GLU\"\\\n",
    "       and y['Residue'][:3] != \"LYS\" and y['Residue'][:3] != \"TYR\" and  y['Residue'][:3] != \"ARG\" and y['Residue'][:3] != \"CYS\"and y['Residue'][:3] != \"HIS\":\n",
    "        \n",
    "        av_crg_count_res.drop([x], inplace = True)\n",
    "\n",
    "av_crg_count_res = av_crg_count_res.set_index(\"Residue\")\n",
    "# sort based on Count\n",
    "av_crg_count_res = av_crg_count_res.sort_values(by = \"Count\", axis = 1, ascending = False)\n",
    "av_crg_count_res[:5]\n"
   ]
  },
  {
   "cell_type": "markdown",
   "metadata": {},
   "source": [
    "### This is to get the unique charge microstate  of 1KT unit(1.36 Kcal/Mol) less or equal than highest enthalpy state."
   ]
  },
  {
   "cell_type": "code",
   "execution_count": null,
   "metadata": {},
   "outputs": [],
   "source": [
    "high_crg_ms = [[x[0], x[1], x[2]] for x in crg_orig_lst if x[0] >= (mc.highest_E - 1.36)]\n",
    "\n",
    "\n",
    "high_crg_count = {}\n",
    "for array in high_crg_ms :\n",
    "    if tuple(array[2]) not in high_crg_count.keys():\n",
    "        high_crg_count[(tuple(array[2]))] = array[1]\n",
    "    else:\n",
    "        high_crg_count[(tuple(array[2]))] += array[1]\n",
    "\n",
    "# make a list of count and charge microstate\n",
    "high_crg_ms_unique = []\n",
    "high_count = []\n",
    "for u,v in high_crg_count.items():\n",
    "    high_crg_ms_unique.append(list(u))\n",
    "    high_count.append(v)\n",
    "print(f\" Total charge ms : {len(high_crg_ms )}, Total Unique charge ms  {len(high_crg_ms_unique)}\")\n",
    "print(len(low_count))\n",
    "\n",
    "# make panda series and save\n",
    "import pandas as pd\n",
    "high_crg_ms_lst = pd.DataFrame(high_crg_ms_unique).T\n",
    "high_ms_count = pd.DataFrame(high_count,columns = [\"Count\"]).T\n",
    "high_crg_ms_count_pd = pd.concat([high_crg_ms_lst.reindex(high_crg_ms_lst.index), high_ms_count])\n",
    "high_crg_count_res_1 = pd.concat([ms_free_residues, high_crg_ms_count_pd.reindex(high_crg_ms_count_pd.index)], axis=1)\n",
    "from numpy import inf\n",
    "high_crg_count_res_1 = high_crg_count_res_1.fillna('Count')\n",
    "# remove the non titrable residues\n",
    "high_crg_count_res = high_crg_count_res_1.copy()\n",
    "for x,y in high_crg_count_res.iterrows():\n",
    "    if y['Residue'][:3] != \"NTR\" and y['Residue'][:5] != \"Count\" and y['Residue'][:3] != \"CTR\"and y['Residue'][:3] != \"ASP\" and y['Residue'][:3] != \"GLU\"\\\n",
    "       and y['Residue'][:3] != \"LYS\" and y['Residue'][:3] != \"TYR\" and  y['Residue'][:3] != \"ARG\" and y['Residue'][:3] != \"CYS\"and y['Residue'][:3] != \"HIS\":\n",
    "        \n",
    "        high_crg_count_res.drop([x], inplace = True)\n",
    "\n",
    "high_crg_count_res = high_crg_count_res.set_index(\"Residue\")\n",
    "high_crg_count_res[:5]"
   ]
  },
  {
   "cell_type": "markdown",
   "metadata": {},
   "source": [
    "### Save all the pandas data frame."
   ]
  },
  {
   "cell_type": "code",
   "execution_count": null,
   "metadata": {},
   "outputs": [],
   "source": [
    "# save all three data frames and non titrable residues charge information.\n",
    "writer = pd.ExcelWriter('charge_ms_4lzt_pH5.xlsx', engine='xlsxwriter')\n",
    "low_crg_count_res.to_excel(writer, sheet_name='low_crg_count_res')\n",
    "av_crg_count_res.to_excel(writer, sheet_name='av_crg_count_res')\n",
    "high_crg_count_res.to_excel(writer, sheet_name='high_crg_count_res')\n",
    "fixed_residues_crg.to_excel(writer, sheet_name = 'fixed_residues_crg')\n",
    "writer.save()\n",
    "# Due to coulmn size issue in excel for large sytem. We save in csv format for all charge.                           \n",
    "all_crg_count_res.to_csv('all_crg_count_res.csv', header = True)"
   ]
  },
  {
   "cell_type": "markdown",
   "metadata": {},
   "source": [
    "### This is for the post processing of already save file. This is for to get the correlation matrix for residues. Here we plotting the correlation matrix if occupancy is atleast 0.01 i.e. 1%."
   ]
  },
  {
   "cell_type": "code",
   "execution_count": null,
   "metadata": {},
   "outputs": [],
   "source": [
    "all_crg_count= pd.read_csv(\"all_crg_count_res.csv\", index_col = 0)\n",
    "all_crg_count_T = all_crg_count.T\n",
    "all_crg_count_T[\"Occupancy\"] = (all_crg_count_T.Count/sum(all_crg_count_T.Count)).round(3)\n",
    "all_crg_count_T_filter = all_crg_count_T[all_crg_count_T['Occupancy'] >= 0.01]\n",
    "all_crg_count_T_filter = all_crg_count_T_filter.iloc[:, :-2] \n",
    "all_crg_count_T_filter[:5]"
   ]
  },
  {
   "cell_type": "markdown",
   "metadata": {},
   "source": [
    "### Rename the residues with the one letter code. For NTR and CTR keep as it is."
   ]
  },
  {
   "cell_type": "code",
   "execution_count": null,
   "metadata": {},
   "outputs": [],
   "source": [
    "all_crg_count_T_rename = all_crg_count_T_filter.copy()\n",
    "rename_dict = {}\n",
    "for i in all_crg_count_T_rename.columns:\n",
    "    rename_dict[i] = i[:3] + str(int(i[4:8]))\n",
    "    \n",
    "for x, y in rename_dict.items():\n",
    "     if y[:3] == 'ASP':\n",
    "            rename_dict[x] = 'D' + y[3:]\n",
    "     if y[:3] == 'GLU':\n",
    "            rename_dict[x] = 'E' + y[3:]\n",
    "     if y[:3] == 'ARG':\n",
    "            rename_dict[x] = 'R' + y[3:]\n",
    "     if y[:3] == 'TYR':\n",
    "            rename_dict[x] = 'Y' + y[3:]\n",
    "     if y[:3] == 'HIS':\n",
    "            rename_dict[x] = 'H' + y[3:]\n",
    "     if y[:3] == 'LYS':\n",
    "            rename_dict[x] = 'K' + y[3:]\n",
    "     if y[:3] == 'CYS':\n",
    "            rename_dict[x] = 'C' + y[3:]\n",
    "\n",
    "all_crg_count_T_rename = all_crg_count_T_rename.rename(rename_dict, axis =1).T\n",
    "all_crg_count_T_rename[:5]"
   ]
  },
  {
   "cell_type": "markdown",
   "metadata": {},
   "source": [
    "### Remove the residues whose ionization state is not changed."
   ]
  },
  {
   "cell_type": "code",
   "execution_count": null,
   "metadata": {},
   "outputs": [],
   "source": [
    "all_crg_count_std = all_crg_count_T_rename.copy()\n",
    "all_crg_count_std[\"std\"] = all_crg_count_std.std(axis = 1).round(3)\n",
    "all_crg_count_std = all_crg_count_std.loc[all_crg_count_std['std'] != 0].T[:-1]\n",
    "all_crg_count_corr = all_crg_count_std.copy()\n",
    "all_crg_count_corr[:5]\n"
   ]
  },
  {
   "cell_type": "markdown",
   "metadata": {},
   "source": [
    "### This will give the Pearson Coefficient"
   ]
  },
  {
   "cell_type": "code",
   "execution_count": null,
   "metadata": {},
   "outputs": [],
   "source": [
    "from matplotlib.colors import LinearSegmentedColormap,ListedColormap\n",
    "df1 = all_crg_count_corr.corr()\n",
    "plt.figure(figsize=(10, 5))\n",
    "# define the mask to set the values in the upper triangle to True\n",
    "mask = np.triu(np.ones_like(df1, dtype=np.bool))\n",
    "cmap = ListedColormap([\"darkred\", \"red\", \"gray\", \"lightgray\", \"blue\", 'darkblue'])\n",
    "heatmap = sns.heatmap(df1, mask=mask, vmin=-0.7, vmax=0.7, annot=True, cmap=cmap, square = True)\n",
    "heatmap.set_title('4lzt at pH5', fontdict={'fontsize':18}, pad=16)\n",
    "sns.set(font_scale=1.4)\n",
    "plt.savefig(\"corr_4lzt_pH5_high_occ.pdf\", dpi = 600, bbox_inches = 'tight');\n"
   ]
  },
  {
   "cell_type": "code",
   "execution_count": null,
   "metadata": {},
   "outputs": [],
   "source": []
  }
 ],
 "metadata": {
  "kernelspec": {
   "display_name": "Python 3",
   "language": "python",
   "name": "python3"
  },
  "language_info": {
   "codemirror_mode": {
    "name": "ipython",
    "version": 3
   },
   "file_extension": ".py",
   "mimetype": "text/x-python",
   "name": "python",
   "nbconvert_exporter": "python",
   "pygments_lexer": "ipython3",
   "version": "3.7.7"
  }
 },
 "nbformat": 4,
 "nbformat_minor": 4
}
